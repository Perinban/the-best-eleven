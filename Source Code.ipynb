{
 "cells": [
  {
   "cell_type": "markdown",
   "metadata": {},
   "source": [
    "<h1 align=\"center\">T20 World Cup Cricket Data Pre Processing<h1/>"
   ]
  },
  {
   "cell_type": "code",
   "execution_count": 68,
   "metadata": {
    "ExecuteTime": {
     "end_time": "2024-07-17T16:31:46.793402Z",
     "start_time": "2024-07-17T16:31:39.136203Z"
    }
   },
   "outputs": [
    {
     "name": "stdout",
     "output_type": "stream",
     "text": [
      "Requirement already satisfied: pandas in /Library/Frameworks/Python.framework/Versions/3.12/lib/python3.12/site-packages (2.1.4)\r\n",
      "Requirement already satisfied: numpy<2,>=1.26.0 in /Library/Frameworks/Python.framework/Versions/3.12/lib/python3.12/site-packages (from pandas) (1.26.4)\r\n",
      "Requirement already satisfied: python-dateutil>=2.8.2 in /Library/Frameworks/Python.framework/Versions/3.12/lib/python3.12/site-packages (from pandas) (2.9.0.post0)\r\n",
      "Requirement already satisfied: pytz>=2020.1 in /Library/Frameworks/Python.framework/Versions/3.12/lib/python3.12/site-packages (from pandas) (2024.1)\r\n",
      "Requirement already satisfied: tzdata>=2022.1 in /Library/Frameworks/Python.framework/Versions/3.12/lib/python3.12/site-packages (from pandas) (2024.1)\r\n",
      "Requirement already satisfied: six>=1.5 in /Library/Frameworks/Python.framework/Versions/3.12/lib/python3.12/site-packages (from python-dateutil>=2.8.2->pandas) (1.16.0)\r\n",
      "\r\n",
      "\u001b[1m[\u001b[0m\u001b[34;49mnotice\u001b[0m\u001b[1;39;49m]\u001b[0m\u001b[39;49m A new release of pip is available: \u001b[0m\u001b[31;49m24.1.1\u001b[0m\u001b[39;49m -> \u001b[0m\u001b[32;49m24.1.2\u001b[0m\r\n",
      "\u001b[1m[\u001b[0m\u001b[34;49mnotice\u001b[0m\u001b[1;39;49m]\u001b[0m\u001b[39;49m To update, run: \u001b[0m\u001b[32;49mpip install --upgrade pip\u001b[0m\r\n"
     ]
    }
   ],
   "source": [
    "# Install a pip pandas package in the current Jupyter kernel\n",
    "import sys\n",
    "\n",
    "#Basic Packages related to Data Analysis\n",
    "!{sys.executable} -m pip install pandas"
   ]
  },
  {
   "cell_type": "code",
   "execution_count": 69,
   "metadata": {
    "ExecuteTime": {
     "end_time": "2024-07-17T16:31:46.803352Z",
     "start_time": "2024-07-17T16:31:46.797409Z"
    }
   },
   "outputs": [],
   "source": [
    "#import necessary libraries\n",
    "import pandas as pd \n",
    "import json"
   ]
  },
  {
   "cell_type": "markdown",
   "metadata": {},
   "source": [
    "<h3 style=\"color:blue\">(1) Process Match Results<h3/>"
   ]
  },
  {
   "cell_type": "code",
   "execution_count": 70,
   "metadata": {
    "ExecuteTime": {
     "end_time": "2024-07-17T16:31:46.884840Z",
     "start_time": "2024-07-17T16:31:46.804843Z"
    }
   },
   "outputs": [
    {
     "data": {
      "text/html": [
       "<div>\n",
       "<style scoped>\n",
       "    .dataframe tbody tr th:only-of-type {\n",
       "        vertical-align: middle;\n",
       "    }\n",
       "\n",
       "    .dataframe tbody tr th {\n",
       "        vertical-align: top;\n",
       "    }\n",
       "\n",
       "    .dataframe thead th {\n",
       "        text-align: right;\n",
       "    }\n",
       "</style>\n",
       "<table border=\"1\" class=\"dataframe\">\n",
       "  <thead>\n",
       "    <tr style=\"text-align: right;\">\n",
       "      <th></th>\n",
       "      <th>team1</th>\n",
       "      <th>team2</th>\n",
       "      <th>winner</th>\n",
       "      <th>margin</th>\n",
       "      <th>ground</th>\n",
       "      <th>matchDate</th>\n",
       "      <th>scorecard</th>\n",
       "    </tr>\n",
       "  </thead>\n",
       "  <tbody>\n",
       "    <tr>\n",
       "      <th>0</th>\n",
       "      <td>Namibia</td>\n",
       "      <td>Sri Lanka</td>\n",
       "      <td>Namibia</td>\n",
       "      <td>55 runs</td>\n",
       "      <td>Geelong</td>\n",
       "      <td>Oct 16, 2022</td>\n",
       "      <td>T20I # 1823</td>\n",
       "    </tr>\n",
       "    <tr>\n",
       "      <th>1</th>\n",
       "      <td>Netherlands</td>\n",
       "      <td>U.A.E.</td>\n",
       "      <td>Netherlands</td>\n",
       "      <td>3 wickets</td>\n",
       "      <td>Geelong</td>\n",
       "      <td>Oct 16, 2022</td>\n",
       "      <td>T20I # 1825</td>\n",
       "    </tr>\n",
       "    <tr>\n",
       "      <th>2</th>\n",
       "      <td>Scotland</td>\n",
       "      <td>West Indies</td>\n",
       "      <td>Scotland</td>\n",
       "      <td>42 runs</td>\n",
       "      <td>Hobart</td>\n",
       "      <td>Oct 17, 2022</td>\n",
       "      <td>T20I # 1826</td>\n",
       "    </tr>\n",
       "    <tr>\n",
       "      <th>3</th>\n",
       "      <td>Ireland</td>\n",
       "      <td>Zimbabwe</td>\n",
       "      <td>Zimbabwe</td>\n",
       "      <td>31 runs</td>\n",
       "      <td>Hobart</td>\n",
       "      <td>Oct 17, 2022</td>\n",
       "      <td>T20I # 1828</td>\n",
       "    </tr>\n",
       "    <tr>\n",
       "      <th>4</th>\n",
       "      <td>Namibia</td>\n",
       "      <td>Netherlands</td>\n",
       "      <td>Netherlands</td>\n",
       "      <td>5 wickets</td>\n",
       "      <td>Geelong</td>\n",
       "      <td>Oct 18, 2022</td>\n",
       "      <td>T20I # 1830</td>\n",
       "    </tr>\n",
       "  </tbody>\n",
       "</table>\n",
       "</div>"
      ],
      "text/plain": [
       "         team1        team2       winner     margin   ground     matchDate  \\\n",
       "0      Namibia    Sri Lanka      Namibia    55 runs  Geelong  Oct 16, 2022   \n",
       "1  Netherlands       U.A.E.  Netherlands  3 wickets  Geelong  Oct 16, 2022   \n",
       "2     Scotland  West Indies     Scotland    42 runs   Hobart  Oct 17, 2022   \n",
       "3      Ireland     Zimbabwe     Zimbabwe    31 runs   Hobart  Oct 17, 2022   \n",
       "4      Namibia  Netherlands  Netherlands  5 wickets  Geelong  Oct 18, 2022   \n",
       "\n",
       "     scorecard  \n",
       "0  T20I # 1823  \n",
       "1  T20I # 1825  \n",
       "2  T20I # 1826  \n",
       "3  T20I # 1828  \n",
       "4  T20I # 1830  "
      ]
     },
     "execution_count": 70,
     "metadata": {},
     "output_type": "execute_result"
    }
   ],
   "source": [
    "#Read Match Results file\n",
    "with open('/D:/UE_College_study/Sem1/Data analytics/Final_project/DA-final project/t20_json_files/t20_wc_match_results.json') as f:\n",
    "     data = json.load(f)  \n",
    "\n",
    "df_match = pd.DataFrame(data[0]['matchSummary'])\n",
    "\n",
    "#Trim additional spaces on string columns\n",
    "df_match = df_match.apply(lambda x: x.str.strip() if x.dtype == \"object\" else x)\n",
    "\n",
    "#Validation of match information\n",
    "df_match.head()"
   ]
  },
  {
   "cell_type": "code",
   "execution_count": 71,
   "metadata": {
    "ExecuteTime": {
     "end_time": "2024-07-17T16:31:46.911749Z",
     "start_time": "2024-07-17T16:31:46.889577Z"
    }
   },
   "outputs": [
    {
     "data": {
      "text/plain": [
       "(45, 7)"
      ]
     },
     "execution_count": 71,
     "metadata": {},
     "output_type": "execute_result"
    }
   ],
   "source": [
    "#Check the total no of rows and columns\n",
    "df_match.shape"
   ]
  },
  {
   "cell_type": "markdown",
   "metadata": {},
   "source": [
    "**Use scorecard as a match id to link with other tables**"
   ]
  },
  {
   "cell_type": "code",
   "execution_count": 72,
   "metadata": {
    "ExecuteTime": {
     "end_time": "2024-07-17T16:31:46.943682Z",
     "start_time": "2024-07-17T16:31:46.914561Z"
    },
    "scrolled": true
   },
   "outputs": [
    {
     "name": "stdout",
     "output_type": "stream",
     "text": [
      "<class 'pandas.core.frame.DataFrame'>\n",
      "RangeIndex: 45 entries, 0 to 44\n",
      "Data columns (total 7 columns):\n",
      " #   Column     Non-Null Count  Dtype \n",
      "---  ------     --------------  ----- \n",
      " 0   team1      45 non-null     object\n",
      " 1   team2      45 non-null     object\n",
      " 2   winner     45 non-null     object\n",
      " 3   margin     45 non-null     object\n",
      " 4   ground     45 non-null     object\n",
      " 5   matchDate  45 non-null     object\n",
      " 6   match_id   45 non-null     object\n",
      "dtypes: object(7)\n",
      "memory usage: 2.6+ KB\n"
     ]
    }
   ],
   "source": [
    "#Rename columns\n",
    "df_match.rename({'scorecard':'match_id'}, axis = 1, inplace = True)\n",
    "\n",
    "#Verify if the column has been renamed successfully\n",
    "df_match.info()"
   ]
  },
  {
   "cell_type": "code",
   "execution_count": 73,
   "metadata": {
    "ExecuteTime": {
     "end_time": "2024-07-17T16:31:46.952837Z",
     "start_time": "2024-07-17T16:31:46.945029Z"
    }
   },
   "outputs": [
    {
     "data": {
      "text/plain": [
       "team1        0\n",
       "team2        0\n",
       "winner       0\n",
       "margin       0\n",
       "ground       0\n",
       "matchDate    0\n",
       "match_id     0\n",
       "dtype: int64"
      ]
     },
     "execution_count": 73,
     "metadata": {},
     "output_type": "execute_result"
    }
   ],
   "source": [
    "#Check for any null values in that data for all columns\n",
    "df_match.isnull().sum().sort_values(ascending=False)"
   ]
  },
  {
   "cell_type": "code",
   "execution_count": 74,
   "metadata": {
    "ExecuteTime": {
     "end_time": "2024-07-17T16:31:46.965214Z",
     "start_time": "2024-07-17T16:31:46.954608Z"
    }
   },
   "outputs": [],
   "source": [
    "#Null Condition Check in required non_decimal columns\n",
    "\n",
    "# List columns to check for null values\n",
    "columns_to_check = ['team1', 'team2', 'matchDate', 'match_id']\n",
    "\n",
    "# Identification of rows with null values\n",
    "rows = df_match[columns_to_check].isna().any(axis=1) | (df_match[columns_to_check] == '').any(axis=1)\n",
    "\n",
    "# Drop null rows from the original DataFrame\n",
    "df_match = df_match[~rows].reset_index(drop=True)"
   ]
  },
  {
   "cell_type": "code",
   "execution_count": 75,
   "metadata": {
    "ExecuteTime": {
     "end_time": "2024-07-17T16:31:46.974128Z",
     "start_time": "2024-07-17T16:31:46.967076Z"
    }
   },
   "outputs": [],
   "source": [
    "#Deduplication\n",
    "\n",
    "df_match.drop_duplicates(subset=['team1', 'team2', 'matchDate', 'match_id'], keep='first', inplace=True)"
   ]
  },
  {
   "cell_type": "code",
   "execution_count": 76,
   "metadata": {
    "ExecuteTime": {
     "end_time": "2024-07-17T16:31:46.980015Z",
     "start_time": "2024-07-17T16:31:46.976213Z"
    }
   },
   "outputs": [],
   "source": [
    "#Validation of Unique_id column\n",
    "\n",
    "pattern = r'^T20I # \\d+$'\n",
    "\n",
    "#Filter and consider only T20 records\n",
    "df_match = df_match[df_match['match_id'].str.match(pattern)]"
   ]
  },
  {
   "cell_type": "code",
   "execution_count": 77,
   "metadata": {
    "ExecuteTime": {
     "end_time": "2024-07-17T16:31:46.993340Z",
     "start_time": "2024-07-17T16:31:46.983198Z"
    }
   },
   "outputs": [],
   "source": [
    "#store final data as csv file for validation\n",
    "df_match.to_csv('D:/UE_College_study/Sem1/Data analytics/Final_project/DA-final project/t20_csv_files/match_summary.csv', index = False)"
   ]
  },
  {
   "cell_type": "markdown",
   "metadata": {},
   "source": [
    "**Create a match ids dictionary that maps team names to a unique match id. This will be useful later on to link with other dataframes**"
   ]
  },
  {
   "cell_type": "code",
   "execution_count": 78,
   "metadata": {
    "ExecuteTime": {
     "end_time": "2024-07-17T16:31:47.005548Z",
     "start_time": "2024-07-17T16:31:46.994199Z"
    }
   },
   "outputs": [
    {
     "data": {
      "text/plain": [
       "{'Namibia Vs Sri Lanka': 'T20I # 1823',\n",
       " 'Sri Lanka Vs Namibia': 'T20I # 1823',\n",
       " 'Netherlands Vs U.A.E.': 'T20I # 1825',\n",
       " 'U.A.E. Vs Netherlands': 'T20I # 1825',\n",
       " 'Scotland Vs West Indies': 'T20I # 1826',\n",
       " 'West Indies Vs Scotland': 'T20I # 1826',\n",
       " 'Ireland Vs Zimbabwe': 'T20I # 1828',\n",
       " 'Zimbabwe Vs Ireland': 'T20I # 1828',\n",
       " 'Namibia Vs Netherlands': 'T20I # 1830',\n",
       " 'Netherlands Vs Namibia': 'T20I # 1830',\n",
       " 'Sri Lanka Vs U.A.E.': 'T20I # 1832',\n",
       " 'U.A.E. Vs Sri Lanka': 'T20I # 1832',\n",
       " 'Ireland Vs Scotland': 'T20I # 1833',\n",
       " 'Scotland Vs Ireland': 'T20I # 1833',\n",
       " 'West Indies Vs Zimbabwe': 'T20I # 1834',\n",
       " 'Zimbabwe Vs West Indies': 'T20I # 1834',\n",
       " 'Netherlands Vs Sri Lanka': 'T20I # 1835',\n",
       " 'Sri Lanka Vs Netherlands': 'T20I # 1835',\n",
       " 'Namibia Vs U.A.E.': 'T20I # 1836',\n",
       " 'U.A.E. Vs Namibia': 'T20I # 1836',\n",
       " 'Ireland Vs West Indies': 'T20I # 1837',\n",
       " 'West Indies Vs Ireland': 'T20I # 1837',\n",
       " 'Scotland Vs Zimbabwe': 'T20I # 1838',\n",
       " 'Zimbabwe Vs Scotland': 'T20I # 1838',\n",
       " 'Australia Vs New Zealand': 'T20I # 1839',\n",
       " 'New Zealand Vs Australia': 'T20I # 1839',\n",
       " 'Afghanistan Vs England': 'T20I # 1840',\n",
       " 'England Vs Afghanistan': 'T20I # 1840',\n",
       " 'Ireland Vs Sri Lanka': 'T20I # 1841',\n",
       " 'Sri Lanka Vs Ireland': 'T20I # 1841',\n",
       " 'India Vs Pakistan': 'T20I # 1842',\n",
       " 'Pakistan Vs India': 'T20I # 1842',\n",
       " 'Bangladesh Vs Netherlands': 'T20I # 1843',\n",
       " 'Netherlands Vs Bangladesh': 'T20I # 1843',\n",
       " 'South Africa Vs Zimbabwe': 'T20I # 1844',\n",
       " 'Zimbabwe Vs South Africa': 'T20I # 1844',\n",
       " 'Australia Vs Sri Lanka': 'T20I # 1845',\n",
       " 'Sri Lanka Vs Australia': 'T20I # 1845',\n",
       " 'England Vs Ireland': 'T20I # 1846',\n",
       " 'Ireland Vs England': 'T20I # 1846',\n",
       " 'Bangladesh Vs South Africa': 'T20I # 1847',\n",
       " 'South Africa Vs Bangladesh': 'T20I # 1847',\n",
       " 'India Vs Netherlands': 'T20I # 1848',\n",
       " 'Netherlands Vs India': 'T20I # 1848',\n",
       " 'Pakistan Vs Zimbabwe': 'T20I # 1849',\n",
       " 'Zimbabwe Vs Pakistan': 'T20I # 1849',\n",
       " 'New Zealand Vs Sri Lanka': 'T20I # 1850',\n",
       " 'Sri Lanka Vs New Zealand': 'T20I # 1850',\n",
       " 'Bangladesh Vs Zimbabwe': 'T20I # 1851',\n",
       " 'Zimbabwe Vs Bangladesh': 'T20I # 1851',\n",
       " 'Netherlands Vs Pakistan': 'T20I # 1852',\n",
       " 'Pakistan Vs Netherlands': 'T20I # 1852',\n",
       " 'India Vs South Africa': 'T20I # 1853',\n",
       " 'South Africa Vs India': 'T20I # 1853',\n",
       " 'Australia Vs Ireland': 'T20I # 1855',\n",
       " 'Ireland Vs Australia': 'T20I # 1855',\n",
       " 'Afghanistan Vs Sri Lanka': 'T20I # 1856',\n",
       " 'Sri Lanka Vs Afghanistan': 'T20I # 1856',\n",
       " 'England Vs New Zealand': 'T20I # 1858',\n",
       " 'New Zealand Vs England': 'T20I # 1858',\n",
       " 'Netherlands Vs Zimbabwe': 'T20I # 1859',\n",
       " 'Zimbabwe Vs Netherlands': 'T20I # 1859',\n",
       " 'Bangladesh Vs India': 'T20I # 1860',\n",
       " 'India Vs Bangladesh': 'T20I # 1860',\n",
       " 'Pakistan Vs South Africa': 'T20I # 1861',\n",
       " 'South Africa Vs Pakistan': 'T20I # 1861',\n",
       " 'Ireland Vs New Zealand': 'T20I # 1862',\n",
       " 'New Zealand Vs Ireland': 'T20I # 1862',\n",
       " 'Australia Vs Afghanistan': 'T20I # 1864',\n",
       " 'Afghanistan Vs Australia': 'T20I # 1864',\n",
       " 'England Vs Sri Lanka': 'T20I # 1867',\n",
       " 'Sri Lanka Vs England': 'T20I # 1867',\n",
       " 'Netherlands Vs South Africa': 'T20I # 1871',\n",
       " 'South Africa Vs Netherlands': 'T20I # 1871',\n",
       " 'Bangladesh Vs Pakistan': 'T20I # 1872',\n",
       " 'Pakistan Vs Bangladesh': 'T20I # 1872',\n",
       " 'India Vs Zimbabwe': 'T20I # 1873',\n",
       " 'Zimbabwe Vs India': 'T20I # 1873',\n",
       " 'New Zealand Vs Pakistan': 'T20I # 1877',\n",
       " 'Pakistan Vs New Zealand': 'T20I # 1877',\n",
       " 'England Vs India': 'T20I # 1878',\n",
       " 'India Vs England': 'T20I # 1878',\n",
       " 'England Vs Pakistan': 'T20I # 1879',\n",
       " 'Pakistan Vs England': 'T20I # 1879'}"
      ]
     },
     "execution_count": 78,
     "metadata": {},
     "output_type": "execute_result"
    }
   ],
   "source": [
    "#Create a unique key attribute combination to identify each record\n",
    "match_ids_dict = {}\n",
    "\n",
    "for index, row in df_match.iterrows():\n",
    "    key1 = row['team1'] + ' Vs ' + row['team2']\n",
    "    key2 = row['team2'] + ' Vs ' + row['team1']\n",
    "    \n",
    "    match_ids_dict[key1] = row ['match_id']\n",
    "    match_ids_dict[key2] = row ['match_id']\n",
    "\n",
    "#Validation of identifier records\n",
    "match_ids_dict"
   ]
  },
  {
   "cell_type": "markdown",
   "metadata": {},
   "source": [
    "<h4 style=\"color:blue\">(2) Process Batting Summary</h4>"
   ]
  },
  {
   "cell_type": "code",
   "execution_count": 79,
   "metadata": {
    "ExecuteTime": {
     "end_time": "2024-07-17T16:31:47.028194Z",
     "start_time": "2024-07-17T16:31:47.007451Z"
    }
   },
   "outputs": [
    {
     "data": {
      "text/html": [
       "<div>\n",
       "<style scoped>\n",
       "    .dataframe tbody tr th:only-of-type {\n",
       "        vertical-align: middle;\n",
       "    }\n",
       "\n",
       "    .dataframe tbody tr th {\n",
       "        vertical-align: top;\n",
       "    }\n",
       "\n",
       "    .dataframe thead th {\n",
       "        text-align: right;\n",
       "    }\n",
       "</style>\n",
       "<table border=\"1\" class=\"dataframe\">\n",
       "  <thead>\n",
       "    <tr style=\"text-align: right;\">\n",
       "      <th></th>\n",
       "      <th>match</th>\n",
       "      <th>teamInnings</th>\n",
       "      <th>battingPos</th>\n",
       "      <th>batsmanName</th>\n",
       "      <th>dismissal</th>\n",
       "      <th>runs</th>\n",
       "      <th>balls</th>\n",
       "      <th>4s</th>\n",
       "      <th>6s</th>\n",
       "      <th>SR</th>\n",
       "    </tr>\n",
       "  </thead>\n",
       "  <tbody>\n",
       "    <tr>\n",
       "      <th>0</th>\n",
       "      <td>Namibia Vs Sri Lanka</td>\n",
       "      <td>Namibia</td>\n",
       "      <td>1</td>\n",
       "      <td>Michael van Lingen</td>\n",
       "      <td>c Pramod Madushan b Chameera</td>\n",
       "      <td>3</td>\n",
       "      <td>6</td>\n",
       "      <td>0</td>\n",
       "      <td>0</td>\n",
       "      <td>50.00</td>\n",
       "    </tr>\n",
       "    <tr>\n",
       "      <th>1</th>\n",
       "      <td>Namibia Vs Sri Lanka</td>\n",
       "      <td>Namibia</td>\n",
       "      <td>2</td>\n",
       "      <td>Divan la Cock</td>\n",
       "      <td>c Shanaka b Pramod Madushan</td>\n",
       "      <td>9</td>\n",
       "      <td>9</td>\n",
       "      <td>1</td>\n",
       "      <td>0</td>\n",
       "      <td>100.00</td>\n",
       "    </tr>\n",
       "    <tr>\n",
       "      <th>2</th>\n",
       "      <td>Namibia Vs Sri Lanka</td>\n",
       "      <td>Namibia</td>\n",
       "      <td>3</td>\n",
       "      <td>Jan Nicol Loftie-Eaton</td>\n",
       "      <td>c †Mendis b Karunaratne</td>\n",
       "      <td>20</td>\n",
       "      <td>12</td>\n",
       "      <td>1</td>\n",
       "      <td>2</td>\n",
       "      <td>166.66</td>\n",
       "    </tr>\n",
       "    <tr>\n",
       "      <th>3</th>\n",
       "      <td>Namibia Vs Sri Lanka</td>\n",
       "      <td>Namibia</td>\n",
       "      <td>4</td>\n",
       "      <td>Stephan Baard</td>\n",
       "      <td>c DM de Silva b Pramod Madushan</td>\n",
       "      <td>26</td>\n",
       "      <td>24</td>\n",
       "      <td>2</td>\n",
       "      <td>0</td>\n",
       "      <td>108.33</td>\n",
       "    </tr>\n",
       "    <tr>\n",
       "      <th>4</th>\n",
       "      <td>Namibia Vs Sri Lanka</td>\n",
       "      <td>Namibia</td>\n",
       "      <td>5</td>\n",
       "      <td>Gerhard Erasmus(c)</td>\n",
       "      <td>c Gunathilaka b PWH de Silva</td>\n",
       "      <td>20</td>\n",
       "      <td>24</td>\n",
       "      <td>0</td>\n",
       "      <td>0</td>\n",
       "      <td>83.33</td>\n",
       "    </tr>\n",
       "  </tbody>\n",
       "</table>\n",
       "</div>"
      ],
      "text/plain": [
       "                  match teamInnings  battingPos             batsmanName  \\\n",
       "0  Namibia Vs Sri Lanka     Namibia           1      Michael van Lingen   \n",
       "1  Namibia Vs Sri Lanka     Namibia           2           Divan la Cock   \n",
       "2  Namibia Vs Sri Lanka     Namibia           3  Jan Nicol Loftie-Eaton   \n",
       "3  Namibia Vs Sri Lanka     Namibia           4           Stephan Baard   \n",
       "4  Namibia Vs Sri Lanka     Namibia           5      Gerhard Erasmus(c)   \n",
       "\n",
       "                         dismissal runs balls 4s 6s      SR  \n",
       "0     c Pramod Madushan b Chameera    3     6  0  0   50.00  \n",
       "1      c Shanaka b Pramod Madushan    9     9  1  0  100.00  \n",
       "2          c †Mendis b Karunaratne   20    12  1  2  166.66  \n",
       "3  c DM de Silva b Pramod Madushan   26    24  2  0  108.33  \n",
       "4     c Gunathilaka b PWH de Silva   20    24  0  0   83.33  "
      ]
     },
     "execution_count": 79,
     "metadata": {},
     "output_type": "execute_result"
    }
   ],
   "source": [
    "#Read Batting Summary file\n",
    "\n",
    "with open('D:/UE_College_study/Sem1/Data analytics/Final_project/DA-final project/t20_json_files/t20_wc_batting_summary.json') as f:\n",
    "     data = json.load(f)\n",
    "    \n",
    "     #Initialize an empty list to store all records\n",
    "     all_records = []\n",
    "    \n",
    "     for rec in data:\n",
    "            all_records.extend(rec['battingSummary'])\n",
    "\n",
    "#Convert it to Dataframe\n",
    "df_batting = pd.DataFrame(all_records)\n",
    "\n",
    "#Validation of batting information\n",
    "df_batting.head()"
   ]
  },
  {
   "cell_type": "code",
   "execution_count": 80,
   "metadata": {
    "ExecuteTime": {
     "end_time": "2024-07-17T16:31:47.061276Z",
     "start_time": "2024-07-17T16:31:47.032053Z"
    }
   },
   "outputs": [
    {
     "data": {
      "text/plain": [
       "(699, 10)"
      ]
     },
     "execution_count": 80,
     "metadata": {},
     "output_type": "execute_result"
    }
   ],
   "source": [
    "#Check the total no of rows and columns\n",
    "df_batting.shape"
   ]
  },
  {
   "cell_type": "code",
   "execution_count": 81,
   "metadata": {
    "ExecuteTime": {
     "end_time": "2024-07-17T16:31:47.084112Z",
     "start_time": "2024-07-17T16:31:47.067239Z"
    }
   },
   "outputs": [],
   "source": [
    "#Trim additional spaces on string columns\n",
    "df_batting = df_batting.apply(lambda x: x.str.strip() if x.dtype == \"object\" else x)"
   ]
  },
  {
   "cell_type": "code",
   "execution_count": 82,
   "metadata": {
    "ExecuteTime": {
     "end_time": "2024-07-17T16:31:47.120827Z",
     "start_time": "2024-07-17T16:31:47.088671Z"
    }
   },
   "outputs": [],
   "source": [
    "#Addition of new columns\n",
    "df_batting['out/not_out'] = df_batting.dismissal.apply(lambda x: \"out\" if len(x)>0 else \"not_out\")\n",
    "df_batting['match_id'] = df_batting['match'].map(match_ids_dict)"
   ]
  },
  {
   "cell_type": "code",
   "execution_count": 83,
   "metadata": {
    "ExecuteTime": {
     "end_time": "2024-07-17T16:31:47.153640Z",
     "start_time": "2024-07-17T16:31:47.124261Z"
    }
   },
   "outputs": [
    {
     "data": {
      "text/html": [
       "<div>\n",
       "<style scoped>\n",
       "    .dataframe tbody tr th:only-of-type {\n",
       "        vertical-align: middle;\n",
       "    }\n",
       "\n",
       "    .dataframe tbody tr th {\n",
       "        vertical-align: top;\n",
       "    }\n",
       "\n",
       "    .dataframe thead th {\n",
       "        text-align: right;\n",
       "    }\n",
       "</style>\n",
       "<table border=\"1\" class=\"dataframe\">\n",
       "  <thead>\n",
       "    <tr style=\"text-align: right;\">\n",
       "      <th></th>\n",
       "      <th>match</th>\n",
       "      <th>teamInnings</th>\n",
       "      <th>battingPos</th>\n",
       "      <th>batsmanName</th>\n",
       "      <th>runs</th>\n",
       "      <th>balls</th>\n",
       "      <th>4s</th>\n",
       "      <th>6s</th>\n",
       "      <th>SR</th>\n",
       "      <th>out/not_out</th>\n",
       "      <th>match_id</th>\n",
       "    </tr>\n",
       "  </thead>\n",
       "  <tbody>\n",
       "    <tr>\n",
       "      <th>0</th>\n",
       "      <td>Namibia Vs Sri Lanka</td>\n",
       "      <td>Namibia</td>\n",
       "      <td>1</td>\n",
       "      <td>Michael van Lingen</td>\n",
       "      <td>3</td>\n",
       "      <td>6</td>\n",
       "      <td>0</td>\n",
       "      <td>0</td>\n",
       "      <td>50.00</td>\n",
       "      <td>out</td>\n",
       "      <td>T20I # 1823</td>\n",
       "    </tr>\n",
       "    <tr>\n",
       "      <th>1</th>\n",
       "      <td>Namibia Vs Sri Lanka</td>\n",
       "      <td>Namibia</td>\n",
       "      <td>2</td>\n",
       "      <td>Divan la Cock</td>\n",
       "      <td>9</td>\n",
       "      <td>9</td>\n",
       "      <td>1</td>\n",
       "      <td>0</td>\n",
       "      <td>100.00</td>\n",
       "      <td>out</td>\n",
       "      <td>T20I # 1823</td>\n",
       "    </tr>\n",
       "    <tr>\n",
       "      <th>2</th>\n",
       "      <td>Namibia Vs Sri Lanka</td>\n",
       "      <td>Namibia</td>\n",
       "      <td>3</td>\n",
       "      <td>Jan Nicol Loftie-Eaton</td>\n",
       "      <td>20</td>\n",
       "      <td>12</td>\n",
       "      <td>1</td>\n",
       "      <td>2</td>\n",
       "      <td>166.66</td>\n",
       "      <td>out</td>\n",
       "      <td>T20I # 1823</td>\n",
       "    </tr>\n",
       "    <tr>\n",
       "      <th>3</th>\n",
       "      <td>Namibia Vs Sri Lanka</td>\n",
       "      <td>Namibia</td>\n",
       "      <td>4</td>\n",
       "      <td>Stephan Baard</td>\n",
       "      <td>26</td>\n",
       "      <td>24</td>\n",
       "      <td>2</td>\n",
       "      <td>0</td>\n",
       "      <td>108.33</td>\n",
       "      <td>out</td>\n",
       "      <td>T20I # 1823</td>\n",
       "    </tr>\n",
       "    <tr>\n",
       "      <th>4</th>\n",
       "      <td>Namibia Vs Sri Lanka</td>\n",
       "      <td>Namibia</td>\n",
       "      <td>5</td>\n",
       "      <td>Gerhard Erasmus(c)</td>\n",
       "      <td>20</td>\n",
       "      <td>24</td>\n",
       "      <td>0</td>\n",
       "      <td>0</td>\n",
       "      <td>83.33</td>\n",
       "      <td>out</td>\n",
       "      <td>T20I # 1823</td>\n",
       "    </tr>\n",
       "    <tr>\n",
       "      <th>5</th>\n",
       "      <td>Namibia Vs Sri Lanka</td>\n",
       "      <td>Namibia</td>\n",
       "      <td>6</td>\n",
       "      <td>Jan Frylinck</td>\n",
       "      <td>44</td>\n",
       "      <td>28</td>\n",
       "      <td>4</td>\n",
       "      <td>0</td>\n",
       "      <td>157.14</td>\n",
       "      <td>out</td>\n",
       "      <td>T20I # 1823</td>\n",
       "    </tr>\n",
       "    <tr>\n",
       "      <th>6</th>\n",
       "      <td>Namibia Vs Sri Lanka</td>\n",
       "      <td>Namibia</td>\n",
       "      <td>7</td>\n",
       "      <td>David Wiese</td>\n",
       "      <td>0</td>\n",
       "      <td>1</td>\n",
       "      <td>0</td>\n",
       "      <td>0</td>\n",
       "      <td>0.00</td>\n",
       "      <td>out</td>\n",
       "      <td>T20I # 1823</td>\n",
       "    </tr>\n",
       "    <tr>\n",
       "      <th>7</th>\n",
       "      <td>Namibia Vs Sri Lanka</td>\n",
       "      <td>Namibia</td>\n",
       "      <td>8</td>\n",
       "      <td>JJ Smit</td>\n",
       "      <td>31</td>\n",
       "      <td>16</td>\n",
       "      <td>2</td>\n",
       "      <td>2</td>\n",
       "      <td>193.75</td>\n",
       "      <td>not_out</td>\n",
       "      <td>T20I # 1823</td>\n",
       "    </tr>\n",
       "    <tr>\n",
       "      <th>8</th>\n",
       "      <td>Namibia Vs Sri Lanka</td>\n",
       "      <td>Sri Lanka</td>\n",
       "      <td>1</td>\n",
       "      <td>Pathum Nissanka</td>\n",
       "      <td>9</td>\n",
       "      <td>10</td>\n",
       "      <td>1</td>\n",
       "      <td>0</td>\n",
       "      <td>90.00</td>\n",
       "      <td>out</td>\n",
       "      <td>T20I # 1823</td>\n",
       "    </tr>\n",
       "    <tr>\n",
       "      <th>9</th>\n",
       "      <td>Namibia Vs Sri Lanka</td>\n",
       "      <td>Sri Lanka</td>\n",
       "      <td>2</td>\n",
       "      <td>Kusal Mendis†</td>\n",
       "      <td>6</td>\n",
       "      <td>6</td>\n",
       "      <td>0</td>\n",
       "      <td>0</td>\n",
       "      <td>100.00</td>\n",
       "      <td>out</td>\n",
       "      <td>T20I # 1823</td>\n",
       "    </tr>\n",
       "    <tr>\n",
       "      <th>10</th>\n",
       "      <td>Namibia Vs Sri Lanka</td>\n",
       "      <td>Sri Lanka</td>\n",
       "      <td>3</td>\n",
       "      <td>Dhananjaya de Silva</td>\n",
       "      <td>12</td>\n",
       "      <td>11</td>\n",
       "      <td>1</td>\n",
       "      <td>0</td>\n",
       "      <td>109.09</td>\n",
       "      <td>out</td>\n",
       "      <td>T20I # 1823</td>\n",
       "    </tr>\n",
       "  </tbody>\n",
       "</table>\n",
       "</div>"
      ],
      "text/plain": [
       "                   match teamInnings  battingPos             batsmanName runs  \\\n",
       "0   Namibia Vs Sri Lanka     Namibia           1      Michael van Lingen    3   \n",
       "1   Namibia Vs Sri Lanka     Namibia           2           Divan la Cock    9   \n",
       "2   Namibia Vs Sri Lanka     Namibia           3  Jan Nicol Loftie-Eaton   20   \n",
       "3   Namibia Vs Sri Lanka     Namibia           4           Stephan Baard   26   \n",
       "4   Namibia Vs Sri Lanka     Namibia           5      Gerhard Erasmus(c)   20   \n",
       "5   Namibia Vs Sri Lanka     Namibia           6            Jan Frylinck   44   \n",
       "6   Namibia Vs Sri Lanka     Namibia           7             David Wiese    0   \n",
       "7   Namibia Vs Sri Lanka     Namibia           8                 JJ Smit   31   \n",
       "8   Namibia Vs Sri Lanka   Sri Lanka           1         Pathum Nissanka    9   \n",
       "9   Namibia Vs Sri Lanka   Sri Lanka           2           Kusal Mendis†    6   \n",
       "10  Namibia Vs Sri Lanka   Sri Lanka           3     Dhananjaya de Silva   12   \n",
       "\n",
       "   balls 4s 6s      SR out/not_out     match_id  \n",
       "0      6  0  0   50.00         out  T20I # 1823  \n",
       "1      9  1  0  100.00         out  T20I # 1823  \n",
       "2     12  1  2  166.66         out  T20I # 1823  \n",
       "3     24  2  0  108.33         out  T20I # 1823  \n",
       "4     24  0  0   83.33         out  T20I # 1823  \n",
       "5     28  4  0  157.14         out  T20I # 1823  \n",
       "6      1  0  0    0.00         out  T20I # 1823  \n",
       "7     16  2  2  193.75     not_out  T20I # 1823  \n",
       "8     10  1  0   90.00         out  T20I # 1823  \n",
       "9      6  0  0  100.00         out  T20I # 1823  \n",
       "10    11  1  0  109.09         out  T20I # 1823  "
      ]
     },
     "execution_count": 83,
     "metadata": {},
     "output_type": "execute_result"
    }
   ],
   "source": [
    "#Drop unwanted columns\n",
    "df_batting.drop(columns=['dismissal'], inplace = True)\n",
    "\n",
    "#Validation of batting information\n",
    "df_batting.head(11)"
   ]
  },
  {
   "cell_type": "code",
   "execution_count": 84,
   "metadata": {
    "ExecuteTime": {
     "end_time": "2024-07-17T16:31:47.178965Z",
     "start_time": "2024-07-17T16:31:47.159876Z"
    }
   },
   "outputs": [],
   "source": [
    "# Drop null value rows based on match_id\n",
    "df_batting.dropna(subset=['match_id'], inplace=True)"
   ]
  },
  {
   "cell_type": "markdown",
   "metadata": {},
   "source": [
    "**Remove UTF-8 characters**"
   ]
  },
  {
   "cell_type": "code",
   "execution_count": 85,
   "metadata": {
    "ExecuteTime": {
     "end_time": "2024-07-17T16:31:47.194035Z",
     "start_time": "2024-07-17T16:31:47.181594Z"
    }
   },
   "outputs": [
    {
     "data": {
      "text/html": [
       "<div>\n",
       "<style scoped>\n",
       "    .dataframe tbody tr th:only-of-type {\n",
       "        vertical-align: middle;\n",
       "    }\n",
       "\n",
       "    .dataframe tbody tr th {\n",
       "        vertical-align: top;\n",
       "    }\n",
       "\n",
       "    .dataframe thead th {\n",
       "        text-align: right;\n",
       "    }\n",
       "</style>\n",
       "<table border=\"1\" class=\"dataframe\">\n",
       "  <thead>\n",
       "    <tr style=\"text-align: right;\">\n",
       "      <th></th>\n",
       "      <th>match</th>\n",
       "      <th>teamInnings</th>\n",
       "      <th>battingPos</th>\n",
       "      <th>batsmanName</th>\n",
       "      <th>runs</th>\n",
       "      <th>balls</th>\n",
       "      <th>4s</th>\n",
       "      <th>6s</th>\n",
       "      <th>SR</th>\n",
       "      <th>out/not_out</th>\n",
       "      <th>match_id</th>\n",
       "    </tr>\n",
       "  </thead>\n",
       "  <tbody>\n",
       "    <tr>\n",
       "      <th>0</th>\n",
       "      <td>Namibia Vs Sri Lanka</td>\n",
       "      <td>Namibia</td>\n",
       "      <td>1</td>\n",
       "      <td>Michael van Lingen</td>\n",
       "      <td>3</td>\n",
       "      <td>6</td>\n",
       "      <td>0</td>\n",
       "      <td>0</td>\n",
       "      <td>50.00</td>\n",
       "      <td>out</td>\n",
       "      <td>T20I # 1823</td>\n",
       "    </tr>\n",
       "    <tr>\n",
       "      <th>1</th>\n",
       "      <td>Namibia Vs Sri Lanka</td>\n",
       "      <td>Namibia</td>\n",
       "      <td>2</td>\n",
       "      <td>Divan la Cock</td>\n",
       "      <td>9</td>\n",
       "      <td>9</td>\n",
       "      <td>1</td>\n",
       "      <td>0</td>\n",
       "      <td>100.00</td>\n",
       "      <td>out</td>\n",
       "      <td>T20I # 1823</td>\n",
       "    </tr>\n",
       "    <tr>\n",
       "      <th>2</th>\n",
       "      <td>Namibia Vs Sri Lanka</td>\n",
       "      <td>Namibia</td>\n",
       "      <td>3</td>\n",
       "      <td>Jan Nicol Loftie-Eaton</td>\n",
       "      <td>20</td>\n",
       "      <td>12</td>\n",
       "      <td>1</td>\n",
       "      <td>2</td>\n",
       "      <td>166.66</td>\n",
       "      <td>out</td>\n",
       "      <td>T20I # 1823</td>\n",
       "    </tr>\n",
       "    <tr>\n",
       "      <th>3</th>\n",
       "      <td>Namibia Vs Sri Lanka</td>\n",
       "      <td>Namibia</td>\n",
       "      <td>4</td>\n",
       "      <td>Stephan Baard</td>\n",
       "      <td>26</td>\n",
       "      <td>24</td>\n",
       "      <td>2</td>\n",
       "      <td>0</td>\n",
       "      <td>108.33</td>\n",
       "      <td>out</td>\n",
       "      <td>T20I # 1823</td>\n",
       "    </tr>\n",
       "    <tr>\n",
       "      <th>4</th>\n",
       "      <td>Namibia Vs Sri Lanka</td>\n",
       "      <td>Namibia</td>\n",
       "      <td>5</td>\n",
       "      <td>Gerhard Erasmus(c)</td>\n",
       "      <td>20</td>\n",
       "      <td>24</td>\n",
       "      <td>0</td>\n",
       "      <td>0</td>\n",
       "      <td>83.33</td>\n",
       "      <td>out</td>\n",
       "      <td>T20I # 1823</td>\n",
       "    </tr>\n",
       "    <tr>\n",
       "      <th>5</th>\n",
       "      <td>Namibia Vs Sri Lanka</td>\n",
       "      <td>Namibia</td>\n",
       "      <td>6</td>\n",
       "      <td>Jan Frylinck</td>\n",
       "      <td>44</td>\n",
       "      <td>28</td>\n",
       "      <td>4</td>\n",
       "      <td>0</td>\n",
       "      <td>157.14</td>\n",
       "      <td>out</td>\n",
       "      <td>T20I # 1823</td>\n",
       "    </tr>\n",
       "    <tr>\n",
       "      <th>6</th>\n",
       "      <td>Namibia Vs Sri Lanka</td>\n",
       "      <td>Namibia</td>\n",
       "      <td>7</td>\n",
       "      <td>David Wiese</td>\n",
       "      <td>0</td>\n",
       "      <td>1</td>\n",
       "      <td>0</td>\n",
       "      <td>0</td>\n",
       "      <td>0.00</td>\n",
       "      <td>out</td>\n",
       "      <td>T20I # 1823</td>\n",
       "    </tr>\n",
       "    <tr>\n",
       "      <th>7</th>\n",
       "      <td>Namibia Vs Sri Lanka</td>\n",
       "      <td>Namibia</td>\n",
       "      <td>8</td>\n",
       "      <td>JJ Smit</td>\n",
       "      <td>31</td>\n",
       "      <td>16</td>\n",
       "      <td>2</td>\n",
       "      <td>2</td>\n",
       "      <td>193.75</td>\n",
       "      <td>not_out</td>\n",
       "      <td>T20I # 1823</td>\n",
       "    </tr>\n",
       "    <tr>\n",
       "      <th>8</th>\n",
       "      <td>Namibia Vs Sri Lanka</td>\n",
       "      <td>Sri Lanka</td>\n",
       "      <td>1</td>\n",
       "      <td>Pathum Nissanka</td>\n",
       "      <td>9</td>\n",
       "      <td>10</td>\n",
       "      <td>1</td>\n",
       "      <td>0</td>\n",
       "      <td>90.00</td>\n",
       "      <td>out</td>\n",
       "      <td>T20I # 1823</td>\n",
       "    </tr>\n",
       "    <tr>\n",
       "      <th>9</th>\n",
       "      <td>Namibia Vs Sri Lanka</td>\n",
       "      <td>Sri Lanka</td>\n",
       "      <td>2</td>\n",
       "      <td>Kusal Mendis</td>\n",
       "      <td>6</td>\n",
       "      <td>6</td>\n",
       "      <td>0</td>\n",
       "      <td>0</td>\n",
       "      <td>100.00</td>\n",
       "      <td>out</td>\n",
       "      <td>T20I # 1823</td>\n",
       "    </tr>\n",
       "    <tr>\n",
       "      <th>10</th>\n",
       "      <td>Namibia Vs Sri Lanka</td>\n",
       "      <td>Sri Lanka</td>\n",
       "      <td>3</td>\n",
       "      <td>Dhananjaya de Silva</td>\n",
       "      <td>12</td>\n",
       "      <td>11</td>\n",
       "      <td>1</td>\n",
       "      <td>0</td>\n",
       "      <td>109.09</td>\n",
       "      <td>out</td>\n",
       "      <td>T20I # 1823</td>\n",
       "    </tr>\n",
       "  </tbody>\n",
       "</table>\n",
       "</div>"
      ],
      "text/plain": [
       "                   match teamInnings  battingPos             batsmanName runs  \\\n",
       "0   Namibia Vs Sri Lanka     Namibia           1      Michael van Lingen    3   \n",
       "1   Namibia Vs Sri Lanka     Namibia           2           Divan la Cock    9   \n",
       "2   Namibia Vs Sri Lanka     Namibia           3  Jan Nicol Loftie-Eaton   20   \n",
       "3   Namibia Vs Sri Lanka     Namibia           4           Stephan Baard   26   \n",
       "4   Namibia Vs Sri Lanka     Namibia           5      Gerhard Erasmus(c)   20   \n",
       "5   Namibia Vs Sri Lanka     Namibia           6            Jan Frylinck   44   \n",
       "6   Namibia Vs Sri Lanka     Namibia           7             David Wiese    0   \n",
       "7   Namibia Vs Sri Lanka     Namibia           8                 JJ Smit   31   \n",
       "8   Namibia Vs Sri Lanka   Sri Lanka           1         Pathum Nissanka    9   \n",
       "9   Namibia Vs Sri Lanka   Sri Lanka           2            Kusal Mendis    6   \n",
       "10  Namibia Vs Sri Lanka   Sri Lanka           3     Dhananjaya de Silva   12   \n",
       "\n",
       "   balls 4s 6s      SR out/not_out     match_id  \n",
       "0      6  0  0   50.00         out  T20I # 1823  \n",
       "1      9  1  0  100.00         out  T20I # 1823  \n",
       "2     12  1  2  166.66         out  T20I # 1823  \n",
       "3     24  2  0  108.33         out  T20I # 1823  \n",
       "4     24  0  0   83.33         out  T20I # 1823  \n",
       "5     28  4  0  157.14         out  T20I # 1823  \n",
       "6      1  0  0    0.00         out  T20I # 1823  \n",
       "7     16  2  2  193.75     not_out  T20I # 1823  \n",
       "8     10  1  0   90.00         out  T20I # 1823  \n",
       "9      6  0  0  100.00         out  T20I # 1823  \n",
       "10    11  1  0  109.09         out  T20I # 1823  "
      ]
     },
     "execution_count": 85,
     "metadata": {},
     "output_type": "execute_result"
    }
   ],
   "source": [
    "import re\n",
    "\n",
    "df_batting['batsmanName'] = df_batting['batsmanName'].apply(lambda x: re.sub(r'[^\\x00-\\x7F]+', '', x))\n",
    "\n",
    "#Validation of batsman information\n",
    "df_batting.head(11)"
   ]
  },
  {
   "cell_type": "code",
   "execution_count": 86,
   "metadata": {
    "ExecuteTime": {
     "end_time": "2024-07-17T16:31:47.206524Z",
     "start_time": "2024-07-17T16:31:47.195361Z"
    }
   },
   "outputs": [],
   "source": [
    "#store final data as csv file for validation\n",
    "df_batting.to_csv('D:/UE_College_study/Sem1/Data analytics/Final_project/DA-final project/t20_csv_files/batting_summary.csv', index = False)"
   ]
  },
  {
   "cell_type": "markdown",
   "metadata": {},
   "source": [
    "<h4 style=\"color:blue\">(3) Process Bowling Summary</h4>"
   ]
  },
  {
   "cell_type": "code",
   "execution_count": 87,
   "metadata": {
    "ExecuteTime": {
     "end_time": "2024-07-17T16:31:47.260201Z",
     "start_time": "2024-07-17T16:31:47.208145Z"
    }
   },
   "outputs": [
    {
     "data": {
      "text/html": [
       "<div>\n",
       "<style scoped>\n",
       "    .dataframe tbody tr th:only-of-type {\n",
       "        vertical-align: middle;\n",
       "    }\n",
       "\n",
       "    .dataframe tbody tr th {\n",
       "        vertical-align: top;\n",
       "    }\n",
       "\n",
       "    .dataframe thead th {\n",
       "        text-align: right;\n",
       "    }\n",
       "</style>\n",
       "<table border=\"1\" class=\"dataframe\">\n",
       "  <thead>\n",
       "    <tr style=\"text-align: right;\">\n",
       "      <th></th>\n",
       "      <th>match</th>\n",
       "      <th>bowlingTeam</th>\n",
       "      <th>bowlerName</th>\n",
       "      <th>overs</th>\n",
       "      <th>maiden</th>\n",
       "      <th>runs</th>\n",
       "      <th>wickets</th>\n",
       "      <th>economy</th>\n",
       "      <th>0s</th>\n",
       "      <th>4s</th>\n",
       "      <th>6s</th>\n",
       "      <th>wides</th>\n",
       "      <th>noBalls</th>\n",
       "    </tr>\n",
       "  </thead>\n",
       "  <tbody>\n",
       "    <tr>\n",
       "      <th>0</th>\n",
       "      <td>Namibia Vs Sri Lanka</td>\n",
       "      <td>Sri Lanka</td>\n",
       "      <td>Maheesh Theekshana</td>\n",
       "      <td>4</td>\n",
       "      <td>0</td>\n",
       "      <td>23</td>\n",
       "      <td>1</td>\n",
       "      <td>5.75</td>\n",
       "      <td>7</td>\n",
       "      <td>0</td>\n",
       "      <td>0</td>\n",
       "      <td>2</td>\n",
       "      <td>0</td>\n",
       "    </tr>\n",
       "    <tr>\n",
       "      <th>1</th>\n",
       "      <td>Namibia Vs Sri Lanka</td>\n",
       "      <td>Sri Lanka</td>\n",
       "      <td>Dushmantha Chameera</td>\n",
       "      <td>4</td>\n",
       "      <td>0</td>\n",
       "      <td>39</td>\n",
       "      <td>1</td>\n",
       "      <td>9.75</td>\n",
       "      <td>6</td>\n",
       "      <td>3</td>\n",
       "      <td>1</td>\n",
       "      <td>2</td>\n",
       "      <td>0</td>\n",
       "    </tr>\n",
       "    <tr>\n",
       "      <th>2</th>\n",
       "      <td>Namibia Vs Sri Lanka</td>\n",
       "      <td>Sri Lanka</td>\n",
       "      <td>Pramod Madushan</td>\n",
       "      <td>4</td>\n",
       "      <td>0</td>\n",
       "      <td>37</td>\n",
       "      <td>2</td>\n",
       "      <td>9.25</td>\n",
       "      <td>6</td>\n",
       "      <td>3</td>\n",
       "      <td>1</td>\n",
       "      <td>0</td>\n",
       "      <td>0</td>\n",
       "    </tr>\n",
       "    <tr>\n",
       "      <th>3</th>\n",
       "      <td>Namibia Vs Sri Lanka</td>\n",
       "      <td>Sri Lanka</td>\n",
       "      <td>Chamika Karunaratne</td>\n",
       "      <td>4</td>\n",
       "      <td>0</td>\n",
       "      <td>36</td>\n",
       "      <td>1</td>\n",
       "      <td>9.00</td>\n",
       "      <td>7</td>\n",
       "      <td>3</td>\n",
       "      <td>1</td>\n",
       "      <td>1</td>\n",
       "      <td>0</td>\n",
       "    </tr>\n",
       "    <tr>\n",
       "      <th>4</th>\n",
       "      <td>Namibia Vs Sri Lanka</td>\n",
       "      <td>Sri Lanka</td>\n",
       "      <td>Wanindu Hasaranga de Silva</td>\n",
       "      <td>4</td>\n",
       "      <td>0</td>\n",
       "      <td>27</td>\n",
       "      <td>1</td>\n",
       "      <td>6.75</td>\n",
       "      <td>8</td>\n",
       "      <td>1</td>\n",
       "      <td>1</td>\n",
       "      <td>0</td>\n",
       "      <td>0</td>\n",
       "    </tr>\n",
       "  </tbody>\n",
       "</table>\n",
       "</div>"
      ],
      "text/plain": [
       "                  match bowlingTeam                  bowlerName overs maiden  \\\n",
       "0  Namibia Vs Sri Lanka   Sri Lanka          Maheesh Theekshana     4      0   \n",
       "1  Namibia Vs Sri Lanka   Sri Lanka         Dushmantha Chameera     4      0   \n",
       "2  Namibia Vs Sri Lanka   Sri Lanka             Pramod Madushan     4      0   \n",
       "3  Namibia Vs Sri Lanka   Sri Lanka         Chamika Karunaratne     4      0   \n",
       "4  Namibia Vs Sri Lanka   Sri Lanka  Wanindu Hasaranga de Silva     4      0   \n",
       "\n",
       "  runs wickets economy 0s 4s 6s wides noBalls  \n",
       "0   23       1    5.75  7  0  0     2       0  \n",
       "1   39       1    9.75  6  3  1     2       0  \n",
       "2   37       2    9.25  6  3  1     0       0  \n",
       "3   36       1    9.00  7  3  1     1       0  \n",
       "4   27       1    6.75  8  1  1     0       0  "
      ]
     },
     "execution_count": 87,
     "metadata": {},
     "output_type": "execute_result"
    }
   ],
   "source": [
    "#Read Bowling Summary file\n",
    "with open('D:/UE_College_study/Sem1/Data analytics/Final_project/DA-final project/t20_json_files/t20_wc_bowling_summary.json') as f:\n",
    "    data = json.load(f)\n",
    "    \n",
    "    #Initialize an empty list to store all records\n",
    "    all_records = []\n",
    "    \n",
    "    for rec in data:\n",
    "        all_records.extend(rec['bowlingSummary'])\n",
    "\n",
    "#Comnvert it to DataFrame\n",
    "df_bowling = pd.DataFrame(all_records)\n",
    "\n",
    "#Validation of bowling information\n",
    "df_bowling.head()"
   ]
  },
  {
   "cell_type": "code",
   "execution_count": 88,
   "metadata": {
    "ExecuteTime": {
     "end_time": "2024-07-17T16:31:47.269730Z",
     "start_time": "2024-07-17T16:31:47.262738Z"
    }
   },
   "outputs": [
    {
     "data": {
      "text/plain": [
       "(500, 13)"
      ]
     },
     "execution_count": 88,
     "metadata": {},
     "output_type": "execute_result"
    }
   ],
   "source": [
    "#Check the total no of rows and columns\n",
    "df_bowling.shape"
   ]
  },
  {
   "cell_type": "code",
   "execution_count": 89,
   "metadata": {
    "ExecuteTime": {
     "end_time": "2024-07-17T16:31:47.305199Z",
     "start_time": "2024-07-17T16:31:47.272647Z"
    }
   },
   "outputs": [
    {
     "data": {
      "text/html": [
       "<div>\n",
       "<style scoped>\n",
       "    .dataframe tbody tr th:only-of-type {\n",
       "        vertical-align: middle;\n",
       "    }\n",
       "\n",
       "    .dataframe tbody tr th {\n",
       "        vertical-align: top;\n",
       "    }\n",
       "\n",
       "    .dataframe thead th {\n",
       "        text-align: right;\n",
       "    }\n",
       "</style>\n",
       "<table border=\"1\" class=\"dataframe\">\n",
       "  <thead>\n",
       "    <tr style=\"text-align: right;\">\n",
       "      <th></th>\n",
       "      <th>match</th>\n",
       "      <th>bowlingTeam</th>\n",
       "      <th>bowlerName</th>\n",
       "      <th>overs</th>\n",
       "      <th>maiden</th>\n",
       "      <th>runs</th>\n",
       "      <th>wickets</th>\n",
       "      <th>economy</th>\n",
       "      <th>0s</th>\n",
       "      <th>4s</th>\n",
       "      <th>6s</th>\n",
       "      <th>wides</th>\n",
       "      <th>noBalls</th>\n",
       "      <th>match_id</th>\n",
       "    </tr>\n",
       "  </thead>\n",
       "  <tbody>\n",
       "    <tr>\n",
       "      <th>0</th>\n",
       "      <td>Namibia Vs Sri Lanka</td>\n",
       "      <td>Sri Lanka</td>\n",
       "      <td>Maheesh Theekshana</td>\n",
       "      <td>4</td>\n",
       "      <td>0</td>\n",
       "      <td>23</td>\n",
       "      <td>1</td>\n",
       "      <td>5.75</td>\n",
       "      <td>7</td>\n",
       "      <td>0</td>\n",
       "      <td>0</td>\n",
       "      <td>2</td>\n",
       "      <td>0</td>\n",
       "      <td>T20I # 1823</td>\n",
       "    </tr>\n",
       "    <tr>\n",
       "      <th>1</th>\n",
       "      <td>Namibia Vs Sri Lanka</td>\n",
       "      <td>Sri Lanka</td>\n",
       "      <td>Dushmantha Chameera</td>\n",
       "      <td>4</td>\n",
       "      <td>0</td>\n",
       "      <td>39</td>\n",
       "      <td>1</td>\n",
       "      <td>9.75</td>\n",
       "      <td>6</td>\n",
       "      <td>3</td>\n",
       "      <td>1</td>\n",
       "      <td>2</td>\n",
       "      <td>0</td>\n",
       "      <td>T20I # 1823</td>\n",
       "    </tr>\n",
       "    <tr>\n",
       "      <th>2</th>\n",
       "      <td>Namibia Vs Sri Lanka</td>\n",
       "      <td>Sri Lanka</td>\n",
       "      <td>Pramod Madushan</td>\n",
       "      <td>4</td>\n",
       "      <td>0</td>\n",
       "      <td>37</td>\n",
       "      <td>2</td>\n",
       "      <td>9.25</td>\n",
       "      <td>6</td>\n",
       "      <td>3</td>\n",
       "      <td>1</td>\n",
       "      <td>0</td>\n",
       "      <td>0</td>\n",
       "      <td>T20I # 1823</td>\n",
       "    </tr>\n",
       "    <tr>\n",
       "      <th>3</th>\n",
       "      <td>Namibia Vs Sri Lanka</td>\n",
       "      <td>Sri Lanka</td>\n",
       "      <td>Chamika Karunaratne</td>\n",
       "      <td>4</td>\n",
       "      <td>0</td>\n",
       "      <td>36</td>\n",
       "      <td>1</td>\n",
       "      <td>9.00</td>\n",
       "      <td>7</td>\n",
       "      <td>3</td>\n",
       "      <td>1</td>\n",
       "      <td>1</td>\n",
       "      <td>0</td>\n",
       "      <td>T20I # 1823</td>\n",
       "    </tr>\n",
       "    <tr>\n",
       "      <th>4</th>\n",
       "      <td>Namibia Vs Sri Lanka</td>\n",
       "      <td>Sri Lanka</td>\n",
       "      <td>Wanindu Hasaranga de Silva</td>\n",
       "      <td>4</td>\n",
       "      <td>0</td>\n",
       "      <td>27</td>\n",
       "      <td>1</td>\n",
       "      <td>6.75</td>\n",
       "      <td>8</td>\n",
       "      <td>1</td>\n",
       "      <td>1</td>\n",
       "      <td>0</td>\n",
       "      <td>0</td>\n",
       "      <td>T20I # 1823</td>\n",
       "    </tr>\n",
       "  </tbody>\n",
       "</table>\n",
       "</div>"
      ],
      "text/plain": [
       "                  match bowlingTeam                  bowlerName overs maiden  \\\n",
       "0  Namibia Vs Sri Lanka   Sri Lanka          Maheesh Theekshana     4      0   \n",
       "1  Namibia Vs Sri Lanka   Sri Lanka         Dushmantha Chameera     4      0   \n",
       "2  Namibia Vs Sri Lanka   Sri Lanka             Pramod Madushan     4      0   \n",
       "3  Namibia Vs Sri Lanka   Sri Lanka         Chamika Karunaratne     4      0   \n",
       "4  Namibia Vs Sri Lanka   Sri Lanka  Wanindu Hasaranga de Silva     4      0   \n",
       "\n",
       "  runs wickets economy 0s 4s 6s wides noBalls     match_id  \n",
       "0   23       1    5.75  7  0  0     2       0  T20I # 1823  \n",
       "1   39       1    9.75  6  3  1     2       0  T20I # 1823  \n",
       "2   37       2    9.25  6  3  1     0       0  T20I # 1823  \n",
       "3   36       1    9.00  7  3  1     1       0  T20I # 1823  \n",
       "4   27       1    6.75  8  1  1     0       0  T20I # 1823  "
      ]
     },
     "execution_count": 89,
     "metadata": {},
     "output_type": "execute_result"
    }
   ],
   "source": [
    "#Addition of new column\n",
    "df_bowling['match_id'] = df_bowling['match'].map(match_ids_dict)\n",
    "\n",
    "#Validation of bowling information\n",
    "df_bowling.head()"
   ]
  },
  {
   "cell_type": "code",
   "execution_count": 90,
   "metadata": {
    "ExecuteTime": {
     "end_time": "2024-07-17T16:31:47.343885Z",
     "start_time": "2024-07-17T16:31:47.310282Z"
    }
   },
   "outputs": [],
   "source": [
    "# Drop null value rows based on match_id\n",
    "df_bowling.dropna(subset=['match_id'], inplace=True)"
   ]
  },
  {
   "cell_type": "code",
   "execution_count": 91,
   "metadata": {
    "ExecuteTime": {
     "end_time": "2024-07-17T16:31:47.778282Z",
     "start_time": "2024-07-17T16:31:47.352647Z"
    }
   },
   "outputs": [],
   "source": [
    "df_bowling.to_csv('D:/UE_College_study/Sem1/Data analytics/Final_project/DA-final project/t20_csv_files/bowling_summary.csv', index = False)"
   ]
  },
  {
   "cell_type": "markdown",
   "metadata": {},
   "source": [
    "<h4 style=\"color:blue\">(4) Process Players Information</h4>"
   ]
  },
  {
   "cell_type": "code",
   "execution_count": 92,
   "metadata": {
    "ExecuteTime": {
     "end_time": "2024-07-17T16:31:47.956586Z",
     "start_time": "2024-07-17T16:31:47.786559Z"
    }
   },
   "outputs": [
    {
     "data": {
      "text/html": [
       "<div>\n",
       "<style scoped>\n",
       "    .dataframe tbody tr th:only-of-type {\n",
       "        vertical-align: middle;\n",
       "    }\n",
       "\n",
       "    .dataframe tbody tr th {\n",
       "        vertical-align: top;\n",
       "    }\n",
       "\n",
       "    .dataframe thead th {\n",
       "        text-align: right;\n",
       "    }\n",
       "</style>\n",
       "<table border=\"1\" class=\"dataframe\">\n",
       "  <thead>\n",
       "    <tr style=\"text-align: right;\">\n",
       "      <th></th>\n",
       "      <th>name</th>\n",
       "      <th>team</th>\n",
       "      <th>battingStyle</th>\n",
       "      <th>bowlingStyle</th>\n",
       "      <th>playingRole</th>\n",
       "      <th>description</th>\n",
       "    </tr>\n",
       "  </thead>\n",
       "  <tbody>\n",
       "    <tr>\n",
       "      <th>0</th>\n",
       "      <td>Michael van Lingen</td>\n",
       "      <td>Namibia</td>\n",
       "      <td>Left hand Bat</td>\n",
       "      <td>Left arm Medium</td>\n",
       "      <td>Bowling Allrounder</td>\n",
       "      <td></td>\n",
       "    </tr>\n",
       "    <tr>\n",
       "      <th>1</th>\n",
       "      <td>Divan la Cock</td>\n",
       "      <td>Namibia</td>\n",
       "      <td>Right hand Bat</td>\n",
       "      <td>Legbreak</td>\n",
       "      <td>Opening Batter</td>\n",
       "      <td></td>\n",
       "    </tr>\n",
       "    <tr>\n",
       "      <th>2</th>\n",
       "      <td>Jan Nicol Loftie-Eaton</td>\n",
       "      <td>Namibia</td>\n",
       "      <td>Left hand Bat</td>\n",
       "      <td>Right arm Medium, Legbreak</td>\n",
       "      <td>Batter</td>\n",
       "      <td></td>\n",
       "    </tr>\n",
       "    <tr>\n",
       "      <th>3</th>\n",
       "      <td>Stephan Baard</td>\n",
       "      <td>Namibia</td>\n",
       "      <td>Right hand Bat</td>\n",
       "      <td>Right arm Medium fast</td>\n",
       "      <td>Batter</td>\n",
       "      <td></td>\n",
       "    </tr>\n",
       "    <tr>\n",
       "      <th>4</th>\n",
       "      <td>Gerhard Erasmus(c)</td>\n",
       "      <td>Namibia</td>\n",
       "      <td>Right hand Bat</td>\n",
       "      <td>Right arm Offbreak</td>\n",
       "      <td>Allrounder</td>\n",
       "      <td></td>\n",
       "    </tr>\n",
       "    <tr>\n",
       "      <th>5</th>\n",
       "      <td>Jan Frylinck</td>\n",
       "      <td>Namibia</td>\n",
       "      <td>Left hand Bat</td>\n",
       "      <td>Left arm Fast medium</td>\n",
       "      <td>Allrounder</td>\n",
       "      <td></td>\n",
       "    </tr>\n",
       "    <tr>\n",
       "      <th>6</th>\n",
       "      <td>David Wiese</td>\n",
       "      <td>Namibia</td>\n",
       "      <td>Right hand Bat</td>\n",
       "      <td>Right arm Medium fast</td>\n",
       "      <td>Allrounder</td>\n",
       "      <td>David Wiese joined a marked outflow of South A...</td>\n",
       "    </tr>\n",
       "    <tr>\n",
       "      <th>7</th>\n",
       "      <td>JJ Smit</td>\n",
       "      <td>Namibia</td>\n",
       "      <td>Right hand Bat</td>\n",
       "      <td>Left arm Medium fast</td>\n",
       "      <td>Bowling Allrounder</td>\n",
       "      <td></td>\n",
       "    </tr>\n",
       "    <tr>\n",
       "      <th>8</th>\n",
       "      <td>Pathum Nissanka</td>\n",
       "      <td>Sri Lanka</td>\n",
       "      <td>Right hand Bat</td>\n",
       "      <td></td>\n",
       "      <td>Top order Batter</td>\n",
       "      <td></td>\n",
       "    </tr>\n",
       "    <tr>\n",
       "      <th>9</th>\n",
       "      <td>Kusal Mendis†</td>\n",
       "      <td>Sri Lanka</td>\n",
       "      <td>Right hand Bat</td>\n",
       "      <td>Legbreak</td>\n",
       "      <td>Wicketkeeper Batter</td>\n",
       "      <td>Blessed with a compact technique, an aggressiv...</td>\n",
       "    </tr>\n",
       "  </tbody>\n",
       "</table>\n",
       "</div>"
      ],
      "text/plain": [
       "                     name       team    battingStyle  \\\n",
       "0      Michael van Lingen    Namibia   Left hand Bat   \n",
       "1           Divan la Cock    Namibia  Right hand Bat   \n",
       "2  Jan Nicol Loftie-Eaton    Namibia   Left hand Bat   \n",
       "3           Stephan Baard    Namibia  Right hand Bat   \n",
       "4      Gerhard Erasmus(c)    Namibia  Right hand Bat   \n",
       "5            Jan Frylinck    Namibia   Left hand Bat   \n",
       "6             David Wiese    Namibia  Right hand Bat   \n",
       "7                 JJ Smit    Namibia  Right hand Bat   \n",
       "8         Pathum Nissanka  Sri Lanka  Right hand Bat   \n",
       "9           Kusal Mendis†  Sri Lanka  Right hand Bat   \n",
       "\n",
       "                 bowlingStyle          playingRole  \\\n",
       "0             Left arm Medium   Bowling Allrounder   \n",
       "1                    Legbreak       Opening Batter   \n",
       "2  Right arm Medium, Legbreak               Batter   \n",
       "3       Right arm Medium fast               Batter   \n",
       "4          Right arm Offbreak           Allrounder   \n",
       "5        Left arm Fast medium           Allrounder   \n",
       "6       Right arm Medium fast           Allrounder   \n",
       "7        Left arm Medium fast   Bowling Allrounder   \n",
       "8                                 Top order Batter   \n",
       "9                    Legbreak  Wicketkeeper Batter   \n",
       "\n",
       "                                         description  \n",
       "0                                                     \n",
       "1                                                     \n",
       "2                                                     \n",
       "3                                                     \n",
       "4                                                     \n",
       "5                                                     \n",
       "6  David Wiese joined a marked outflow of South A...  \n",
       "7                                                     \n",
       "8                                                     \n",
       "9  Blessed with a compact technique, an aggressiv...  "
      ]
     },
     "execution_count": 92,
     "metadata": {},
     "output_type": "execute_result"
    }
   ],
   "source": [
    "#Read Players Information file\n",
    "\n",
    "with open('D:/UE_College_study/Sem1/Data analytics/Final_project/DA-final project/t20_json_files/t20_wc_player_info.json') as f:\n",
    "    data = json.load(f)\n",
    "    \n",
    "#Convert it to DataFrame\n",
    "df_players = pd.DataFrame(data)\n",
    "\n",
    "#Validation of Players Information file\n",
    "df_players.head(10)"
   ]
  },
  {
   "cell_type": "code",
   "execution_count": 93,
   "metadata": {
    "ExecuteTime": {
     "end_time": "2024-07-17T16:31:48.048653Z",
     "start_time": "2024-07-17T16:31:47.964464Z"
    }
   },
   "outputs": [
    {
     "data": {
      "text/plain": [
       "(219, 6)"
      ]
     },
     "execution_count": 93,
     "metadata": {},
     "output_type": "execute_result"
    }
   ],
   "source": [
    "#Check the total no of rows and columns\n",
    "df_players.shape"
   ]
  },
  {
   "cell_type": "markdown",
   "metadata": {},
   "source": [
    "**Remove UTF-8 characters**"
   ]
  },
  {
   "cell_type": "code",
   "execution_count": 94,
   "metadata": {
    "ExecuteTime": {
     "end_time": "2024-07-17T16:31:48.223626Z",
     "start_time": "2024-07-17T16:31:48.070899Z"
    }
   },
   "outputs": [
    {
     "data": {
      "text/html": [
       "<div>\n",
       "<style scoped>\n",
       "    .dataframe tbody tr th:only-of-type {\n",
       "        vertical-align: middle;\n",
       "    }\n",
       "\n",
       "    .dataframe tbody tr th {\n",
       "        vertical-align: top;\n",
       "    }\n",
       "\n",
       "    .dataframe thead th {\n",
       "        text-align: right;\n",
       "    }\n",
       "</style>\n",
       "<table border=\"1\" class=\"dataframe\">\n",
       "  <thead>\n",
       "    <tr style=\"text-align: right;\">\n",
       "      <th></th>\n",
       "      <th>name</th>\n",
       "      <th>team</th>\n",
       "      <th>battingStyle</th>\n",
       "      <th>bowlingStyle</th>\n",
       "      <th>playingRole</th>\n",
       "      <th>description</th>\n",
       "    </tr>\n",
       "  </thead>\n",
       "  <tbody>\n",
       "    <tr>\n",
       "      <th>0</th>\n",
       "      <td>Michael van Lingen</td>\n",
       "      <td>Namibia</td>\n",
       "      <td>Left hand Bat</td>\n",
       "      <td>Left arm Medium</td>\n",
       "      <td>Bowling Allrounder</td>\n",
       "      <td></td>\n",
       "    </tr>\n",
       "    <tr>\n",
       "      <th>1</th>\n",
       "      <td>Divan la Cock</td>\n",
       "      <td>Namibia</td>\n",
       "      <td>Right hand Bat</td>\n",
       "      <td>Legbreak</td>\n",
       "      <td>Opening Batter</td>\n",
       "      <td></td>\n",
       "    </tr>\n",
       "    <tr>\n",
       "      <th>2</th>\n",
       "      <td>Jan Nicol Loftie-Eaton</td>\n",
       "      <td>Namibia</td>\n",
       "      <td>Left hand Bat</td>\n",
       "      <td>Right arm Medium, Legbreak</td>\n",
       "      <td>Batter</td>\n",
       "      <td></td>\n",
       "    </tr>\n",
       "    <tr>\n",
       "      <th>3</th>\n",
       "      <td>Stephan Baard</td>\n",
       "      <td>Namibia</td>\n",
       "      <td>Right hand Bat</td>\n",
       "      <td>Right arm Medium fast</td>\n",
       "      <td>Batter</td>\n",
       "      <td></td>\n",
       "    </tr>\n",
       "    <tr>\n",
       "      <th>4</th>\n",
       "      <td>Gerhard Erasmus(c)</td>\n",
       "      <td>Namibia</td>\n",
       "      <td>Right hand Bat</td>\n",
       "      <td>Right arm Offbreak</td>\n",
       "      <td>Allrounder</td>\n",
       "      <td></td>\n",
       "    </tr>\n",
       "    <tr>\n",
       "      <th>5</th>\n",
       "      <td>Jan Frylinck</td>\n",
       "      <td>Namibia</td>\n",
       "      <td>Left hand Bat</td>\n",
       "      <td>Left arm Fast medium</td>\n",
       "      <td>Allrounder</td>\n",
       "      <td></td>\n",
       "    </tr>\n",
       "    <tr>\n",
       "      <th>6</th>\n",
       "      <td>David Wiese</td>\n",
       "      <td>Namibia</td>\n",
       "      <td>Right hand Bat</td>\n",
       "      <td>Right arm Medium fast</td>\n",
       "      <td>Allrounder</td>\n",
       "      <td>David Wiese joined a marked outflow of South A...</td>\n",
       "    </tr>\n",
       "    <tr>\n",
       "      <th>7</th>\n",
       "      <td>JJ Smit</td>\n",
       "      <td>Namibia</td>\n",
       "      <td>Right hand Bat</td>\n",
       "      <td>Left arm Medium fast</td>\n",
       "      <td>Bowling Allrounder</td>\n",
       "      <td></td>\n",
       "    </tr>\n",
       "    <tr>\n",
       "      <th>8</th>\n",
       "      <td>Pathum Nissanka</td>\n",
       "      <td>Sri Lanka</td>\n",
       "      <td>Right hand Bat</td>\n",
       "      <td></td>\n",
       "      <td>Top order Batter</td>\n",
       "      <td></td>\n",
       "    </tr>\n",
       "    <tr>\n",
       "      <th>9</th>\n",
       "      <td>Kusal Mendis</td>\n",
       "      <td>Sri Lanka</td>\n",
       "      <td>Right hand Bat</td>\n",
       "      <td>Legbreak</td>\n",
       "      <td>Wicketkeeper Batter</td>\n",
       "      <td>Blessed with a compact technique, an aggressiv...</td>\n",
       "    </tr>\n",
       "    <tr>\n",
       "      <th>10</th>\n",
       "      <td>Dhananjaya de Silva</td>\n",
       "      <td>Sri Lanka</td>\n",
       "      <td>Right hand Bat</td>\n",
       "      <td>Right arm Offbreak</td>\n",
       "      <td>Allrounder</td>\n",
       "      <td>A technically correct top-order batsman from t...</td>\n",
       "    </tr>\n",
       "  </tbody>\n",
       "</table>\n",
       "</div>"
      ],
      "text/plain": [
       "                      name       team    battingStyle  \\\n",
       "0       Michael van Lingen    Namibia   Left hand Bat   \n",
       "1            Divan la Cock    Namibia  Right hand Bat   \n",
       "2   Jan Nicol Loftie-Eaton    Namibia   Left hand Bat   \n",
       "3            Stephan Baard    Namibia  Right hand Bat   \n",
       "4       Gerhard Erasmus(c)    Namibia  Right hand Bat   \n",
       "5             Jan Frylinck    Namibia   Left hand Bat   \n",
       "6              David Wiese    Namibia  Right hand Bat   \n",
       "7                  JJ Smit    Namibia  Right hand Bat   \n",
       "8          Pathum Nissanka  Sri Lanka  Right hand Bat   \n",
       "9             Kusal Mendis  Sri Lanka  Right hand Bat   \n",
       "10     Dhananjaya de Silva  Sri Lanka  Right hand Bat   \n",
       "\n",
       "                  bowlingStyle          playingRole  \\\n",
       "0              Left arm Medium   Bowling Allrounder   \n",
       "1                     Legbreak       Opening Batter   \n",
       "2   Right arm Medium, Legbreak               Batter   \n",
       "3        Right arm Medium fast               Batter   \n",
       "4           Right arm Offbreak           Allrounder   \n",
       "5         Left arm Fast medium           Allrounder   \n",
       "6        Right arm Medium fast           Allrounder   \n",
       "7         Left arm Medium fast   Bowling Allrounder   \n",
       "8                                  Top order Batter   \n",
       "9                     Legbreak  Wicketkeeper Batter   \n",
       "10          Right arm Offbreak           Allrounder   \n",
       "\n",
       "                                          description  \n",
       "0                                                      \n",
       "1                                                      \n",
       "2                                                      \n",
       "3                                                      \n",
       "4                                                      \n",
       "5                                                      \n",
       "6   David Wiese joined a marked outflow of South A...  \n",
       "7                                                      \n",
       "8                                                      \n",
       "9   Blessed with a compact technique, an aggressiv...  \n",
       "10  A technically correct top-order batsman from t...  "
      ]
     },
     "execution_count": 94,
     "metadata": {},
     "output_type": "execute_result"
    }
   ],
   "source": [
    "import re\n",
    "\n",
    "df_players['name'] = df_players['name'].apply(lambda x: re.sub(r'[^\\x00-\\x7F]+', '', x))\n",
    "\n",
    "#Validation of batsman information\n",
    "df_players.head(11)"
   ]
  },
  {
   "cell_type": "code",
   "execution_count": 95,
   "metadata": {
    "ExecuteTime": {
     "end_time": "2024-07-17T16:31:48.367996Z",
     "start_time": "2024-07-17T16:31:48.335064Z"
    }
   },
   "outputs": [
    {
     "name": "stdout",
     "output_type": "stream",
     "text": [
      "Empty DataFrame\n",
      "Columns: [name, team, battingStyle, bowlingStyle, playingRole, description]\n",
      "Index: []\n"
     ]
    }
   ],
   "source": [
    "#Check if there are any duplicates on name attribute\n",
    "duplicates = df_players[df_players.duplicated('name')]\n",
    "\n",
    "print(duplicates)"
   ]
  },
  {
   "cell_type": "code",
   "execution_count": 96,
   "metadata": {
    "ExecuteTime": {
     "end_time": "2024-07-17T16:31:48.379742Z",
     "start_time": "2024-07-17T16:31:48.372166Z"
    }
   },
   "outputs": [],
   "source": [
    "#Drop records if there are any duplicates\n",
    "df_players.drop_duplicates('name', inplace=True)"
   ]
  },
  {
   "cell_type": "code",
   "execution_count": 97,
   "metadata": {
    "ExecuteTime": {
     "end_time": "2024-07-17T16:31:48.422868Z",
     "start_time": "2024-07-17T16:31:48.383392Z"
    }
   },
   "outputs": [],
   "source": [
    "df_players.to_csv('D:/UE_College_study/Sem1/Data analytics/Final_project/DA-final project/t20_csv_files/players_no_images.csv', index = False)"
   ]
  }
 ],
 "metadata": {
  "kernelspec": {
   "display_name": "Python 3",
   "language": "python",
   "name": "python3"
  },
  "language_info": {
   "codemirror_mode": {
    "name": "ipython",
    "version": 3
   },
   "file_extension": ".py",
   "mimetype": "text/x-python",
   "name": "python",
   "nbconvert_exporter": "python",
   "pygments_lexer": "ipython3",
   "version": "3.8.5"
  }
 },
 "nbformat": 4,
 "nbformat_minor": 4
}
